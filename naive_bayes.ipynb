{
 "cells": [
  {
   "cell_type": "markdown",
   "metadata": {},
   "source": [
    "For this project, we will be creating a naive Bayes classifier from scratch, and use it to classify iris flowers in the extended iris dataset, found [here](https://www.kaggle.com/code/samybaladram/iris-dataset-extended-quick-data-exploration). This dataset is an extension of the classic and well-known [iris dataset](https://archive.ics.uci.edu/dataset/53/iris). However, because the extended dataset includes a tremendous number of new features, we will trim the features down to match the features of the traditional dataset. While one can certainly work with these new features, it complicates the project by having us consider features that are not of Gaussian distributions, and we would like to keep it simple.\n",
    "\n",
    "Before we start, we ought to briefly review Bayes' Theorem and how it plays into the classifier."
   ]
  },
  {
   "cell_type": "markdown",
   "metadata": {},
   "source": [
    "## The math\n",
    "\n",
    "Bayes' Theorem simply states that given events $A$ and $B$ with the probability $P(B) \\neq 0$, the conditional probability $P(A \\vert B)$ is given by\n",
    "$$P(A \\vert B) = \\frac{P(B \\vert A) \\cdot P(A)}{P(B)}$$\n",
    "Suppose now that $B$ is a feature vector\n",
    "$$B = (b_1, b_2, \\ldots, b_n)$$\n",
    "We assume the \"naive\" assumption of \"naive Bayes,\" which is to assume all such $b_i$'s to be [mutually independent](https://en.wikipedia.org/wiki/Conditional_independence). That is,\n",
    "$$P(b_1, b_2, \\ldots, b_n) = P(b_1) \\cdot P(b_2) \\cdots P(b_n)$$\n",
    "Then, applying the [chain rule](https://en.wikipedia.org/wiki/Chain_rule_(probability)) and the definition of [conditional probability](https://en.wikipedia.org/wiki/Conditional_probability) to Bayes' Theorem above, we arrive at\n",
    "$$P(A \\vert B) = \\frac{P(b_1 \\vert A) \\cdots P(b_n \\vert A) \\cdot P(A)}{P(B)}$$\n",
    "As we'll be using $X$ and $y$ for our model, let's just do the substitutions now:\n",
    "$$P(y \\vert X) = \\frac{P(x_1 \\vert y) \\cdots P(x_n \\vert y) \\cdot P(y)}{P(X)}$$\n",
    "\n",
    "Now before we do any more, let's load up the data and see what we're working with."
   ]
  },
  {
   "cell_type": "markdown",
   "metadata": {},
   "source": [
    "---"
   ]
  },
  {
   "cell_type": "code",
   "execution_count": 1,
   "metadata": {},
   "outputs": [
    {
     "data": {
      "text/html": [
       "<div>\n",
       "<style scoped>\n",
       "    .dataframe tbody tr th:only-of-type {\n",
       "        vertical-align: middle;\n",
       "    }\n",
       "\n",
       "    .dataframe tbody tr th {\n",
       "        vertical-align: top;\n",
       "    }\n",
       "\n",
       "    .dataframe thead th {\n",
       "        text-align: right;\n",
       "    }\n",
       "</style>\n",
       "<table border=\"1\" class=\"dataframe\">\n",
       "  <thead>\n",
       "    <tr style=\"text-align: right;\">\n",
       "      <th></th>\n",
       "      <th>species</th>\n",
       "      <th>elevation</th>\n",
       "      <th>soil_type</th>\n",
       "      <th>sepal_length</th>\n",
       "      <th>sepal_width</th>\n",
       "      <th>petal_length</th>\n",
       "      <th>petal_width</th>\n",
       "      <th>sepal_area</th>\n",
       "      <th>petal_area</th>\n",
       "      <th>sepal_aspect_ratio</th>\n",
       "      <th>...</th>\n",
       "      <th>sepal_to_petal_length_ratio</th>\n",
       "      <th>sepal_to_petal_width_ratio</th>\n",
       "      <th>sepal_petal_length_diff</th>\n",
       "      <th>sepal_petal_width_diff</th>\n",
       "      <th>petal_curvature_mm</th>\n",
       "      <th>petal_texture_trichomes_per_mm2</th>\n",
       "      <th>leaf_area_cm2</th>\n",
       "      <th>sepal_area_sqrt</th>\n",
       "      <th>petal_area_sqrt</th>\n",
       "      <th>area_ratios</th>\n",
       "    </tr>\n",
       "  </thead>\n",
       "  <tbody>\n",
       "    <tr>\n",
       "      <th>0</th>\n",
       "      <td>setosa</td>\n",
       "      <td>161.8</td>\n",
       "      <td>sandy</td>\n",
       "      <td>5.16</td>\n",
       "      <td>3.41</td>\n",
       "      <td>1.64</td>\n",
       "      <td>0.26</td>\n",
       "      <td>17.5956</td>\n",
       "      <td>0.4264</td>\n",
       "      <td>1.513196</td>\n",
       "      <td>...</td>\n",
       "      <td>3.146341</td>\n",
       "      <td>13.115385</td>\n",
       "      <td>3.52</td>\n",
       "      <td>3.15</td>\n",
       "      <td>5.33</td>\n",
       "      <td>18.33</td>\n",
       "      <td>53.21</td>\n",
       "      <td>4.194711</td>\n",
       "      <td>0.652993</td>\n",
       "      <td>41.265478</td>\n",
       "    </tr>\n",
       "    <tr>\n",
       "      <th>1</th>\n",
       "      <td>setosa</td>\n",
       "      <td>291.4</td>\n",
       "      <td>clay</td>\n",
       "      <td>5.48</td>\n",
       "      <td>4.05</td>\n",
       "      <td>1.53</td>\n",
       "      <td>0.37</td>\n",
       "      <td>22.1940</td>\n",
       "      <td>0.5661</td>\n",
       "      <td>1.353086</td>\n",
       "      <td>...</td>\n",
       "      <td>3.581699</td>\n",
       "      <td>10.945946</td>\n",
       "      <td>3.95</td>\n",
       "      <td>3.68</td>\n",
       "      <td>5.90</td>\n",
       "      <td>20.45</td>\n",
       "      <td>52.53</td>\n",
       "      <td>4.711051</td>\n",
       "      <td>0.752396</td>\n",
       "      <td>39.205087</td>\n",
       "    </tr>\n",
       "    <tr>\n",
       "      <th>2</th>\n",
       "      <td>setosa</td>\n",
       "      <td>144.3</td>\n",
       "      <td>sandy</td>\n",
       "      <td>5.10</td>\n",
       "      <td>2.80</td>\n",
       "      <td>1.47</td>\n",
       "      <td>0.38</td>\n",
       "      <td>14.2800</td>\n",
       "      <td>0.5586</td>\n",
       "      <td>1.821429</td>\n",
       "      <td>...</td>\n",
       "      <td>3.469388</td>\n",
       "      <td>7.368421</td>\n",
       "      <td>3.63</td>\n",
       "      <td>2.42</td>\n",
       "      <td>5.66</td>\n",
       "      <td>24.62</td>\n",
       "      <td>50.25</td>\n",
       "      <td>3.778889</td>\n",
       "      <td>0.747395</td>\n",
       "      <td>25.563910</td>\n",
       "    </tr>\n",
       "    <tr>\n",
       "      <th>3</th>\n",
       "      <td>setosa</td>\n",
       "      <td>114.6</td>\n",
       "      <td>clay</td>\n",
       "      <td>4.64</td>\n",
       "      <td>3.44</td>\n",
       "      <td>1.53</td>\n",
       "      <td>0.17</td>\n",
       "      <td>15.9616</td>\n",
       "      <td>0.2601</td>\n",
       "      <td>1.348837</td>\n",
       "      <td>...</td>\n",
       "      <td>3.032680</td>\n",
       "      <td>20.235294</td>\n",
       "      <td>3.11</td>\n",
       "      <td>3.27</td>\n",
       "      <td>4.51</td>\n",
       "      <td>22.91</td>\n",
       "      <td>50.85</td>\n",
       "      <td>3.995197</td>\n",
       "      <td>0.510000</td>\n",
       "      <td>61.367166</td>\n",
       "    </tr>\n",
       "    <tr>\n",
       "      <th>4</th>\n",
       "      <td>setosa</td>\n",
       "      <td>110.9</td>\n",
       "      <td>loamy</td>\n",
       "      <td>4.85</td>\n",
       "      <td>2.87</td>\n",
       "      <td>1.23</td>\n",
       "      <td>0.26</td>\n",
       "      <td>13.9195</td>\n",
       "      <td>0.3198</td>\n",
       "      <td>1.689895</td>\n",
       "      <td>...</td>\n",
       "      <td>3.943089</td>\n",
       "      <td>11.038462</td>\n",
       "      <td>3.62</td>\n",
       "      <td>2.61</td>\n",
       "      <td>4.03</td>\n",
       "      <td>21.56</td>\n",
       "      <td>40.57</td>\n",
       "      <td>3.730885</td>\n",
       "      <td>0.565509</td>\n",
       "      <td>43.525641</td>\n",
       "    </tr>\n",
       "  </tbody>\n",
       "</table>\n",
       "<p>5 rows × 21 columns</p>\n",
       "</div>"
      ],
      "text/plain": [
       "  species  elevation soil_type  sepal_length  sepal_width  petal_length  \\\n",
       "0  setosa      161.8     sandy          5.16         3.41          1.64   \n",
       "1  setosa      291.4      clay          5.48         4.05          1.53   \n",
       "2  setosa      144.3     sandy          5.10         2.80          1.47   \n",
       "3  setosa      114.6      clay          4.64         3.44          1.53   \n",
       "4  setosa      110.9     loamy          4.85         2.87          1.23   \n",
       "\n",
       "   petal_width  sepal_area  petal_area  sepal_aspect_ratio  ...  \\\n",
       "0         0.26     17.5956      0.4264            1.513196  ...   \n",
       "1         0.37     22.1940      0.5661            1.353086  ...   \n",
       "2         0.38     14.2800      0.5586            1.821429  ...   \n",
       "3         0.17     15.9616      0.2601            1.348837  ...   \n",
       "4         0.26     13.9195      0.3198            1.689895  ...   \n",
       "\n",
       "   sepal_to_petal_length_ratio  sepal_to_petal_width_ratio  \\\n",
       "0                     3.146341                   13.115385   \n",
       "1                     3.581699                   10.945946   \n",
       "2                     3.469388                    7.368421   \n",
       "3                     3.032680                   20.235294   \n",
       "4                     3.943089                   11.038462   \n",
       "\n",
       "   sepal_petal_length_diff  sepal_petal_width_diff  petal_curvature_mm  \\\n",
       "0                     3.52                    3.15                5.33   \n",
       "1                     3.95                    3.68                5.90   \n",
       "2                     3.63                    2.42                5.66   \n",
       "3                     3.11                    3.27                4.51   \n",
       "4                     3.62                    2.61                4.03   \n",
       "\n",
       "   petal_texture_trichomes_per_mm2  leaf_area_cm2  sepal_area_sqrt  \\\n",
       "0                            18.33          53.21         4.194711   \n",
       "1                            20.45          52.53         4.711051   \n",
       "2                            24.62          50.25         3.778889   \n",
       "3                            22.91          50.85         3.995197   \n",
       "4                            21.56          40.57         3.730885   \n",
       "\n",
       "   petal_area_sqrt  area_ratios  \n",
       "0         0.652993    41.265478  \n",
       "1         0.752396    39.205087  \n",
       "2         0.747395    25.563910  \n",
       "3         0.510000    61.367166  \n",
       "4         0.565509    43.525641  \n",
       "\n",
       "[5 rows x 21 columns]"
      ]
     },
     "execution_count": 1,
     "metadata": {},
     "output_type": "execute_result"
    }
   ],
   "source": [
    "import numpy as np\n",
    "import pandas as pd\n",
    "\n",
    "df = pd.read_csv('dataset\\\\iris_extended.csv')\n",
    "\n",
    "df.head()"
   ]
  },
  {
   "cell_type": "code",
   "execution_count": 2,
   "metadata": {},
   "outputs": [
    {
     "data": {
      "text/html": [
       "<div>\n",
       "<style scoped>\n",
       "    .dataframe tbody tr th:only-of-type {\n",
       "        vertical-align: middle;\n",
       "    }\n",
       "\n",
       "    .dataframe tbody tr th {\n",
       "        vertical-align: top;\n",
       "    }\n",
       "\n",
       "    .dataframe thead th {\n",
       "        text-align: right;\n",
       "    }\n",
       "</style>\n",
       "<table border=\"1\" class=\"dataframe\">\n",
       "  <thead>\n",
       "    <tr style=\"text-align: right;\">\n",
       "      <th></th>\n",
       "      <th>species</th>\n",
       "      <th>sepal_length</th>\n",
       "      <th>sepal_width</th>\n",
       "      <th>petal_length</th>\n",
       "      <th>petal_width</th>\n",
       "    </tr>\n",
       "  </thead>\n",
       "  <tbody>\n",
       "    <tr>\n",
       "      <th>0</th>\n",
       "      <td>setosa</td>\n",
       "      <td>5.16</td>\n",
       "      <td>3.41</td>\n",
       "      <td>1.64</td>\n",
       "      <td>0.26</td>\n",
       "    </tr>\n",
       "    <tr>\n",
       "      <th>1</th>\n",
       "      <td>setosa</td>\n",
       "      <td>5.48</td>\n",
       "      <td>4.05</td>\n",
       "      <td>1.53</td>\n",
       "      <td>0.37</td>\n",
       "    </tr>\n",
       "    <tr>\n",
       "      <th>2</th>\n",
       "      <td>setosa</td>\n",
       "      <td>5.10</td>\n",
       "      <td>2.80</td>\n",
       "      <td>1.47</td>\n",
       "      <td>0.38</td>\n",
       "    </tr>\n",
       "    <tr>\n",
       "      <th>3</th>\n",
       "      <td>setosa</td>\n",
       "      <td>4.64</td>\n",
       "      <td>3.44</td>\n",
       "      <td>1.53</td>\n",
       "      <td>0.17</td>\n",
       "    </tr>\n",
       "    <tr>\n",
       "      <th>4</th>\n",
       "      <td>setosa</td>\n",
       "      <td>4.85</td>\n",
       "      <td>2.87</td>\n",
       "      <td>1.23</td>\n",
       "      <td>0.26</td>\n",
       "    </tr>\n",
       "  </tbody>\n",
       "</table>\n",
       "</div>"
      ],
      "text/plain": [
       "  species  sepal_length  sepal_width  petal_length  petal_width\n",
       "0  setosa          5.16         3.41          1.64         0.26\n",
       "1  setosa          5.48         4.05          1.53         0.37\n",
       "2  setosa          5.10         2.80          1.47         0.38\n",
       "3  setosa          4.64         3.44          1.53         0.17\n",
       "4  setosa          4.85         2.87          1.23         0.26"
      ]
     },
     "execution_count": 2,
     "metadata": {},
     "output_type": "execute_result"
    }
   ],
   "source": [
    "# Dropping all the new columns so that we are in-line with the classic dataset. See first paragraph of notebook\n",
    "columns_to_keep = ['species', 'sepal_length', 'sepal_width', 'petal_length', 'petal_width']\n",
    "df = df.drop(columns=df.columns.difference(columns_to_keep))\n",
    "\n",
    "df.head()"
   ]
  },
  {
   "cell_type": "code",
   "execution_count": 3,
   "metadata": {},
   "outputs": [
    {
     "data": {
      "image/png": "[encoded data removed]",
      "text/plain": [
       "<Figure size 640x480 with 1 Axes>"
      ]
     },
     "metadata": {},
     "output_type": "display_data"
    }
   ],
   "source": [
    "# Taking a look at the different classes of irises\n",
    "import matplotlib.pyplot as plt\n",
    "import seaborn as sns\n",
    "\n",
    "sns.set_style('darkgrid')\n",
    "sns.histplot(df['species']);"
   ]
  },
  {
   "cell_type": "markdown",
   "metadata": {},
   "source": [
    "It looks like there are 400 types of each iris in the dataset. We should check a correlation heatmap to see if any of the columns are correlated to one another, although it may make little difference within the context of a naive Bayes model.\n",
    "\n",
    "Since some columns are not quantitative, let's make replacements to the following columns:\n",
    "- species\n",
    "    - setosa = 0\n",
    "    - versicolor = 1\n",
    "    - virginica = 2"
   ]
  },
  {
   "cell_type": "code",
   "execution_count": 10,
   "metadata": {},
   "outputs": [
    {
     "data": {
      "text/html": [
       "<div>\n",
       "<style scoped>\n",
       "    .dataframe tbody tr th:only-of-type {\n",
       "        vertical-align: middle;\n",
       "    }\n",
       "\n",
       "    .dataframe tbody tr th {\n",
       "        vertical-align: top;\n",
       "    }\n",
       "\n",
       "    .dataframe thead th {\n",
       "        text-align: right;\n",
       "    }\n",
       "</style>\n",
       "<table border=\"1\" class=\"dataframe\">\n",
       "  <thead>\n",
       "    <tr style=\"text-align: right;\">\n",
       "      <th></th>\n",
       "      <th>species</th>\n",
       "      <th>sepal_length</th>\n",
       "      <th>sepal_width</th>\n",
       "      <th>petal_length</th>\n",
       "      <th>petal_width</th>\n",
       "    </tr>\n",
       "  </thead>\n",
       "  <tbody>\n",
       "    <tr>\n",
       "      <th>0</th>\n",
       "      <td>0</td>\n",
       "      <td>5.16</td>\n",
       "      <td>3.41</td>\n",
       "      <td>1.64</td>\n",
       "      <td>0.26</td>\n",
       "    </tr>\n",
       "    <tr>\n",
       "      <th>1</th>\n",
       "      <td>0</td>\n",
       "      <td>5.48</td>\n",
       "      <td>4.05</td>\n",
       "      <td>1.53</td>\n",
       "      <td>0.37</td>\n",
       "    </tr>\n",
       "    <tr>\n",
       "      <th>2</th>\n",
       "      <td>0</td>\n",
       "      <td>5.10</td>\n",
       "      <td>2.80</td>\n",
       "      <td>1.47</td>\n",
       "      <td>0.38</td>\n",
       "    </tr>\n",
       "    <tr>\n",
       "      <th>3</th>\n",
       "      <td>0</td>\n",
       "      <td>4.64</td>\n",
       "      <td>3.44</td>\n",
       "      <td>1.53</td>\n",
       "      <td>0.17</td>\n",
       "    </tr>\n",
       "    <tr>\n",
       "      <th>4</th>\n",
       "      <td>0</td>\n",
       "      <td>4.85</td>\n",
       "      <td>2.87</td>\n",
       "      <td>1.23</td>\n",
       "      <td>0.26</td>\n",
       "    </tr>\n",
       "  </tbody>\n",
       "</table>\n",
       "</div>"
      ],
      "text/plain": [
       "   species  sepal_length  sepal_width  petal_length  petal_width\n",
       "0        0          5.16         3.41          1.64         0.26\n",
       "1        0          5.48         4.05          1.53         0.37\n",
       "2        0          5.10         2.80          1.47         0.38\n",
       "3        0          4.64         3.44          1.53         0.17\n",
       "4        0          4.85         2.87          1.23         0.26"
      ]
     },
     "execution_count": 10,
     "metadata": {},
     "output_type": "execute_result"
    }
   ],
   "source": [
    "df['species'] = df['species'].replace({'setosa': 0, 'versicolor': 1, 'virginica': 2}).astype('int')\n",
    "\n",
    "df.head()"
   ]
  },
  {
   "cell_type": "markdown",
   "metadata": {},
   "source": [
    "Now that everything is numerical, we can create a correlation heatmap."
   ]
  },
  {
   "cell_type": "code",
   "execution_count": 5,
   "metadata": {},
   "outputs": [
    {
     "data": {
      "image/png": "[encoded data removed]",
      "text/plain": [
       "<Figure size 800x600 with 2 Axes>"
      ]
     },
     "metadata": {},
     "output_type": "display_data"
    }
   ],
   "source": [
    "corr = df.iloc[:,:-1].corr()\n",
    "\n",
    "fig, ax = plt.subplots(figsize=(8, 6))\n",
    "sns.heatmap(corr, cmap='crest', annot=True, linewidths=0.5, ax=ax);"
   ]
  },
  {
   "cell_type": "markdown",
   "metadata": {},
   "source": [
    "As we can see, there does seem to be a strong correlation between `petal_length` and `species`, but since `species` is what we are trying to predict, it will not be a feature anyway. If we did have features that were extremely highly correlated, as may be the case in the original extended dataset before we dropped the columns, we could decide whether we would wish to drop any of the columns or not, so as to reduce dimensionality of the model."
   ]
  },
  {
   "cell_type": "markdown",
   "metadata": {},
   "source": [
    "## The math, cont.\n",
    "\n",
    "Recalling what we have above:\n",
    "$$P(y \\vert X) = \\frac{P(x_1 \\vert y) \\cdots P(x_n \\vert y) \\cdot P(y)}{P(X)}$$\n",
    "We wish to select the class $y$ which maximizes the posterior probability $P(y \\vert X)$, so we choose\n",
    "$$\\begin{align*}\n",
    "\\hat{y} &= \\argmax_y P(y \\vert X)\\\\\n",
    "&= \\argmax_y \\frac{P(x_1 \\vert y) \\cdots P(x_n \\vert y) \\cdot P(y)}{P(X)}\\\\\n",
    "&= \\argmax_y P(x_1 \\vert y) \\cdots P(x_n \\vert y) \\cdot P(y) \\qquad \\text{(since } P(X) \\text{ does not matter here)}\n",
    "\\end{align*}$$\n",
    "\n",
    "Note that $P(x_i \\vert y)$ is a real number between 0 and 1, and so multiplying many of these together may result in extremely small numbers which may cause overflow issues. In order to prevent this, one can apply $\\log$, which yields\n",
    "$$\\hat{y} = \\argmax_y \\log(P(x_1 \\vert y)) + \\cdots + \\log(P(x_n \\vert y)) + \\log(P(y))$$\n",
    "\n",
    "Finally, we want to model the likelihood $P(x_i \\vert y)$."
   ]
  },
  {
   "cell_type": "markdown",
   "metadata": {},
   "source": [
    "---"
   ]
  },
  {
   "cell_type": "markdown",
   "metadata": {},
   "source": [
    "Before we continue on, we should first look at the distributions of the data."
   ]
  },
  {
   "cell_type": "code",
   "execution_count": 6,
   "metadata": {},
   "outputs": [
    {
     "data": {
      "image/png": "[encoded data removed]",
      "text/plain": [
       "<Figure size 1200x600 with 4 Axes>"
      ]
     },
     "metadata": {},
     "output_type": "display_data"
    }
   ],
   "source": [
    "fig, ax = plt.subplots(1, 4, figsize=(12, 6), sharey=True)\n",
    "for i in range(4):\n",
    "    sns.histplot(df, ax=ax[i], x=df[df.columns[i+1]], kde=True);"
   ]
  },
  {
   "cell_type": "markdown",
   "metadata": {},
   "source": [
    "Notice that `petal_length` and `petal_width` are not Gaussian (normal) distributions, while we will be using a Gaussian classifying model. This is because, for one, it is simply more convenient, as naive Bayes does not assume a particular distribution upon the features themselves. There may be a performance hit to the model, but we are willing to make that tradeoff to not overcomplicate the project. Note also that we will be testing the accuracy of our model against that of scikit-learn's, and we will be using scikit-learn's Gaussian model as well."
   ]
  },
  {
   "cell_type": "markdown",
   "metadata": {},
   "source": [
    "## Building the model\n",
    "\n",
    "To start, let's calculate the priors $P(y)$ for all possible $y$. Then, we'd like to calculate the class conditional probabilities that make up the likelihood $P(x_1 \\vert y) \\cdots P(x_n \\vert y)$. For this, we'll assume a Gaussian distribution. Hence, the class conditional probabilities are given by the Gaussian probability density function\n",
    "$$P(x_i \\vert y) = \\frac{1}{\\sqrt{2 \\pi \\sigma^2}} \\cdot \\exp \\left( {-\\frac{1}{2} \\left( \\frac{x_i - \\mu}{\\sigma} \\right)^2} \\right)$$\n",
    "where $\\mu$ is the mean (or expected value) of the distribution and $\\sigma$ is the standard deviation.\n",
    "\n",
    "One we put these two together we have our model."
   ]
  },
  {
   "cell_type": "code",
   "execution_count": 7,
   "metadata": {},
   "outputs": [],
   "source": [
    "class NBGaussian:\n",
    "    def fit(self, X, y):\n",
    "        self.classes = np.unique(y)\n",
    "\n",
    "        # Initialize array to store priors\n",
    "        self.class_prior = np.zeros(len(self.classes))\n",
    "\n",
    "        # Initialize mean and variance arrays of each feature for given class\n",
    "        self.mean = np.zeros((len(self.classes), X.shape[1]))\n",
    "        self.var = np.zeros((len(self.classes), X.shape[1]))\n",
    "        \n",
    "        for (i, c) in enumerate(self.classes):\n",
    "            # Data belonging to current class\n",
    "            X_c = X[y == c]\n",
    "\n",
    "            # Calculate class prior probability\n",
    "            self.class_prior[i] = len(X_c) / len(X)\n",
    "\n",
    "            # Calculate mean and variance for each feature and class\n",
    "            self.mean[i, :] = X_c.mean(axis=0)\n",
    "            self.var[i, :] = X_c.var(axis=0)\n",
    "    \n",
    "    def predict(self, X):\n",
    "        probs = []\n",
    "\n",
    "        for i, c in enumerate(self.classes):\n",
    "\n",
    "            # Calculate log of prior\n",
    "            prior = np.log(self.class_prior[i])\n",
    "\n",
    "            # Calculate likelihood using Gaussian probability density function\n",
    "            posterior = np.sum(np.log(self.gaussian_pdf(X, self.mean[i, :], self.var[i, :])), axis=1)\n",
    "\n",
    "            # Calculate log probability for each class\n",
    "            probs.append(prior + posterior)\n",
    "\n",
    "        # Return class with highest probability for each sample\n",
    "        return self.classes[np.argmax(probs, axis=0)]\n",
    "    \n",
    "    def gaussian_pdf(self, X, mean, var):\n",
    "        return np.exp(-((X - mean) ** 2) / (2 * var)) / np.sqrt(2 * np.pi * var)"
   ]
  },
  {
   "cell_type": "markdown",
   "metadata": {},
   "source": [
    "Finally, let's train the model and see how it performs."
   ]
  },
  {
   "cell_type": "code",
   "execution_count": 8,
   "metadata": {},
   "outputs": [
    {
     "name": "stdout",
     "output_type": "stream",
     "text": [
      "[[87  0  0]\n",
      " [ 0 71  2]\n",
      " [ 0  4 76]]\n",
      "Accuracy score: 0.975\n",
      "F1 score: 0.9750106910708176\n"
     ]
    }
   ],
   "source": [
    "from sklearn.model_selection import train_test_split\n",
    "from sklearn.metrics import accuracy_score, confusion_matrix, f1_score\n",
    "\n",
    "X = df.drop('species', axis=1)\n",
    "y = df['species']\n",
    "\n",
    "X_train, X_test, y_train, y_test = train_test_split(X, y, test_size=0.2, random_state=42)\n",
    "\n",
    "clf = NBGaussian()\n",
    "clf.fit(X_train, y_train)\n",
    "pred = clf.predict(X_test)\n",
    "\n",
    "accuracy = accuracy_score(y_test, pred)\n",
    "f1 = f1_score(y_test, pred, average='weighted')\n",
    "\n",
    "print(confusion_matrix(y_test, pred))\n",
    "print(f'Accuracy score: {accuracy}')\n",
    "print(f'F1 score: {f1}')"
   ]
  },
  {
   "cell_type": "markdown",
   "metadata": {},
   "source": [
    "## Comparison with sklearn's model"
   ]
  },
  {
   "cell_type": "code",
   "execution_count": 9,
   "metadata": {},
   "outputs": [
    {
     "name": "stdout",
     "output_type": "stream",
     "text": [
      "[[87  0  0]\n",
      " [ 0 71  2]\n",
      " [ 0  4 76]]\n",
      "Accuracy score: 0.975\n",
      "F1 score: 0.9750106910708176\n"
     ]
    }
   ],
   "source": [
    "from sklearn.naive_bayes import GaussianNB\n",
    "\n",
    "clf_sk = GaussianNB()\n",
    "clf_sk.fit(X_train, y_train)\n",
    "y_pred_sk = clf_sk.predict(X_test)\n",
    "\n",
    "accuracy_sk = accuracy_score(y_test, y_pred_sk)\n",
    "f1_sk = f1_score(y_test, y_pred_sk, average='weighted')\n",
    "\n",
    "print(confusion_matrix(y_test, y_pred_sk))\n",
    "print(f'Accuracy score: {accuracy_sk}')\n",
    "print(f'F1 score: {f1_sk}')"
   ]
  },
  {
   "cell_type": "markdown",
   "metadata": {},
   "source": [
    "It appears we have gotten the exact same results as scikit-learn's model; a success!"
   ]
  }
 ],
 "metadata": {
  "kernelspec": {
   "display_name": "Python 3.8.5 64-bit (conda)",
   "metadata": {
    "interpreter": {
     "hash": "2c81527b5a4384cf19648bf8d6f513a12814ed111bcfa0a54163f8e293289c46"
    }
   },
   "name": "python3"
  },
  "language_info": {
   "codemirror_mode": {
    "name": "ipython",
    "version": 3
   },
   "file_extension": ".py",
   "mimetype": "text/x-python",
   "name": "python",
   "nbconvert_exporter": "python",
   "pygments_lexer": "ipython3",
   "version": "3.11.8"
  },
  "orig_nbformat": 2
 },
 "nbformat": 4,
 "nbformat_minor": 2
}
